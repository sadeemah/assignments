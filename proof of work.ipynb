{
 "cells": [
  {
   "cell_type": "code",
   "execution_count": 1,
   "id": "4e1bb146",
   "metadata": {},
   "outputs": [
    {
     "name": "stdout",
     "output_type": "stream",
     "text": [
      "The hash is: 0000000399c6aea5ad0c709a9bc331a3ed6494702bd1d129d8c817a0257a1462\n",
      "The nonce is: 665783\n",
      "Time elapsed: 0:00:02.604843\n"
     ]
    }
   ],
   "source": [
    "import hashlib \n",
    "import datetime \n",
    "t1 = datetime.datetime.now()\n",
    "nonce = 1 \n",
    "solution = False\n",
    "while solution == False:\n",
    "    ourhash = hashlib.sha256(str(nonce).encode()).hexdigest() \n",
    "    if ourhash[:7] == '0000000': \n",
    "        solution =True\n",
    "    nonce +=1 \n",
    "t2 = datetime.datetime.now() \n",
    "duration = t2 - t1 \n",
    "print (\"The hash is:\",ourhash)\n",
    "print (\"The nonce is:\",nonce)    \n",
    "print (\"Time elapsed:\",duration)"
   ]
  },
  {
   "cell_type": "code",
   "execution_count": 2,
   "id": "2d53bceb",
   "metadata": {},
   "outputs": [
    {
     "name": "stdout",
     "output_type": "stream",
     "text": [
      "The hash is: 00000000690ed426ccf17803ebe2bd0884bcd58a1bb5e7477ead3645f356e7a9\n",
      "The nonce is: 426479725\n",
      "Time elapsed: 0:19:23.663495\n"
     ]
    }
   ],
   "source": [
    "t1 = datetime.datetime.now()\n",
    "nonce = 1 \n",
    "solution = False\n",
    "while solution == False:\n",
    "    ourhash = hashlib.sha256(str(nonce).encode()).hexdigest() \n",
    "    if ourhash[:8] == '00000000': \n",
    "        solution =True\n",
    "    nonce +=1 \n",
    "t2 = datetime.datetime.now() \n",
    "duration = t2 - t1 \n",
    "print (\"The hash is:\",ourhash)\n",
    "print (\"The nonce is:\",nonce)    \n",
    "print (\"Time elapsed:\",duration)"
   ]
  },
  {
   "cell_type": "code",
   "execution_count": null,
   "id": "94bd5aed",
   "metadata": {},
   "outputs": [],
   "source": []
  }
 ],
 "metadata": {
  "kernelspec": {
   "display_name": "Python 3",
   "language": "python",
   "name": "python3"
  },
  "language_info": {
   "codemirror_mode": {
    "name": "ipython",
    "version": 3
   },
   "file_extension": ".py",
   "mimetype": "text/x-python",
   "name": "python",
   "nbconvert_exporter": "python",
   "pygments_lexer": "ipython3",
   "version": "3.8.8"
  }
 },
 "nbformat": 4,
 "nbformat_minor": 5
}
