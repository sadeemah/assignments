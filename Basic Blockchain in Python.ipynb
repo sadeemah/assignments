{
 "cells": [
  {
   "cell_type": "code",
   "execution_count": 1,
   "id": "d59000cf",
   "metadata": {},
   "outputs": [],
   "source": [
    "from hashlib import sha256\n",
    "import json\n",
    "from flask import Flask, request\n",
    "import requests\n",
    "\n",
    "class Block:\n",
    "    def __init__(self, index, transactions, timestamp, previous_hash, nonce=0):\n",
    "        self.index = index\n",
    "        self.transactions = transactions\n",
    "        self.timestamp = timestamp\n",
    "        self.previous_hash = previous_hash\n",
    "        self.nonce = nonce\n",
    "\n",
    "    def compute_hash(self):\n",
    "        block_string = json.dumps(self.__dict__, sort_keys=True)\n",
    "        return sha256(block_string.encode()).hexdigest()"
   ]
  },
  {
   "cell_type": "code",
   "execution_count": 5,
   "id": "42bc4ed4",
   "metadata": {},
   "outputs": [],
   "source": [
    "import time\n",
    "\n",
    "class Blockchain: \n",
    "    def __init__(self):\n",
    "        self.unconfirmed_transactions = [\"Ty pays Mr Brent 1000 BTC\"]\n",
    "        self.chain = []\n",
    "        self.difficulty = 5\n",
    "        self.create_genesis_block()\n",
    " \n",
    "    def create_genesis_block(self):\n",
    "        genesis_block = Block(0, [], time.time(), \"0\")\n",
    "        genesis_block.hash = genesis_block.compute_hash()\n",
    "        self.chain.append(genesis_block)\n",
    "    @property\n",
    "    def last_block(self):\n",
    "        return self.chain[-1]\n",
    "    def proof_of_work(self, block):\n",
    "        block.nonce = 0\n",
    "        computed_hash = block.compute_hash()\n",
    "        while not computed_hash.startswith('0' * self.difficulty):\n",
    "            block.nonce += 1\n",
    "            computed_hash = block.compute_hash()\n",
    "        return computed_hash\n",
    "    def mine(self):\n",
    "        if not self.unconfirmed_transactions:\n",
    "            return False\n",
    " \n",
    "        last_block = self.last_block\n",
    " \n",
    "        new_block = Block(index=last_block.index + 1,\n",
    "                          transactions=self.unconfirmed_transactions,\n",
    "                          timestamp=time.time(),\n",
    "                          previous_hash=last_block.hash)\n",
    " \n",
    "        proof = self.proof_of_work(new_block)\n",
    "        self.add_block(new_block, proof)\n",
    "        self.unconfirmed_transactions = [\"Ty pays Mr Brent 1000 BTC\"]\n",
    "        return new_block.index\n",
    "    def is_valid_proof(self, block, block_hash):\n",
    "        return (block_hash.startswith('0' * self.difficulty) and\n",
    "                block_hash == block.compute_hash())\n",
    "    def add_block(self, block, proof):\n",
    "        previous_hash = self.last_block.hash\n",
    "        if previous_hash != block.previous_hash:\n",
    "            return False\n",
    "        if not self.is_valid_proof(block, proof):\n",
    "            return False\n",
    "        block.hash = proof\n",
    "        self.chain.append(block)\n",
    "        return True\n",
    "    def add_new_transaction(self, transaction):\n",
    "            self.unconfirmed_transactions.append(transaction)"
   ]
  },
  {
   "cell_type": "code",
   "execution_count": 6,
   "id": "b03a7976",
   "metadata": {},
   "outputs": [
    {
     "name": "stdout",
     "output_type": "stream",
     "text": [
      "021f704d6a5ec852f2cf0722dae2d14451934e44e53c1021e1767a88b297cfa8\n",
      "000006fb0a82e2b80cd586e5448ecd4eb80945ff203fed3766c885061a1a2066\n",
      "00000b6e0eebc3bec71f015a4d9b0355aba5bf49156ae46ea0c652a4152a8f50\n",
      "0000092293cfb0203dab0db62df1da1e054a8f69087f88d70cb9be06697f4830\n",
      "000005ef78628df27a7a729278768221cd2f626b3f6becab8dcefc48dcc45a8e\n",
      "000000f024e8537222bcfb80da22bf128d92b0dc34717bf49beb7f71745a3cac\n",
      "00000201d50bded128bc8820564d587f4c373a293956d82e40280ad01a47e138\n",
      "000009dd746b44a5bf3d10cfbbe7d651b9abe1877202f3107a11146888df546d\n",
      "00000b9beca63872c1943f08efb33f29a0307a1ec690bc10c6ebe9dae5e3bc82\n"
     ]
    }
   ],
   "source": [
    "CoolChain = Blockchain()\n",
    "while len(CoolChain.chain) < 10:\n",
    "    \n",
    "    print(CoolChain.chain[-1].hash)\n",
    "\n",
    "    CoolChain.mine()"
   ]
  },
  {
   "cell_type": "code",
   "execution_count": null,
   "id": "1fe25504",
   "metadata": {},
   "outputs": [],
   "source": []
  }
 ],
 "metadata": {
  "kernelspec": {
   "display_name": "Python 3",
   "language": "python",
   "name": "python3"
  },
  "language_info": {
   "codemirror_mode": {
    "name": "ipython",
    "version": 3
   },
   "file_extension": ".py",
   "mimetype": "text/x-python",
   "name": "python",
   "nbconvert_exporter": "python",
   "pygments_lexer": "ipython3",
   "version": "3.8.8"
  }
 },
 "nbformat": 4,
 "nbformat_minor": 5
}
